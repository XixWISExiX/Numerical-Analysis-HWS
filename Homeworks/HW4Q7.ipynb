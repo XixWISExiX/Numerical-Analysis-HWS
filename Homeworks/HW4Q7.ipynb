{
 "cells": [
  {
   "cell_type": "code",
   "execution_count": 1,
   "metadata": {},
   "outputs": [
    {
     "name": "stdout",
     "output_type": "stream",
     "text": [
      "Equ 1 0.0100000007078051567077637\n",
      "Equ 2 0.0099999997764825820922852\n",
      "Does Equ 1 == Equ 2? False\n"
     ]
    }
   ],
   "source": [
    "import numpy as np\n",
    "x = np.float32(5)\n",
    "y = np.float32(0.02)\n",
    "z = np.float32(0.1)\n",
    "print('Equ 1',f'{x*(y*z):.25f}')\n",
    "print('Equ 2',f'{(x*y)*z:.25f}')\n",
    "print('Does Equ 1 == Equ 2?', x*(y*z) == (x*y)*z)"
   ]
  }
 ],
 "metadata": {
  "kernelspec": {
   "display_name": "Python 3",
   "language": "python",
   "name": "python3"
  },
  "language_info": {
   "codemirror_mode": {
    "name": "ipython",
    "version": 3
   },
   "file_extension": ".py",
   "mimetype": "text/x-python",
   "name": "python",
   "nbconvert_exporter": "python",
   "pygments_lexer": "ipython3",
   "version": "3.10.12"
  }
 },
 "nbformat": 4,
 "nbformat_minor": 2
}
