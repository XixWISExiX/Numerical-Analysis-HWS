{
 "cells": [
  {
   "cell_type": "code",
   "execution_count": null,
   "metadata": {},
   "outputs": [],
   "source": []
  },
  {
   "cell_type": "markdown",
   "metadata": {},
   "source": [
    "# Newton's Method"
   ]
  },
  {
   "cell_type": "code",
   "execution_count": 11,
   "metadata": {},
   "outputs": [],
   "source": [
    "import numpy as np\n",
    "\n",
    "\n",
    "def newtonsMethod(f, f_prime, x0, max_iter, tolerance, see_steps=False):\n",
    "    \"\"\"\n",
    "    Approximates a root p given an initial point x0 for a function f with\n",
    "    error smaller than a given tolerance.\n",
    "    Note that f, f', and f'' must be continuous in the neighborhood of the root.\n",
    "    :param f: function whose root is approximated\n",
    "    :param f_prime: the derivative of function f\n",
    "    :param x0: the starting point for which the fucntion\n",
    "    :param max_iter: maximum number of iteration to reach the tolerance\n",
    "    :param tolerance: maximal allowed error\n",
    "    \"\"\"\n",
    "\n",
    "    p = x0\n",
    "    for i in range(max_iter):\n",
    "        fp = f(p)\n",
    "        f_prime_p = f_prime(p)\n",
    "        if see_steps:\n",
    "            print('Step',i+1, 'x =',p, '| f(p) =', fp, \"| f'(p) =\", f_prime_p)\n",
    "\n",
    "        # Avoid division by zero\n",
    "        if f_prime_p == 0:\n",
    "            print(\"Division by 0, cannot Converge\")\n",
    "            return False, -1\n",
    "\n",
    "        step = p - fp/f_prime_p\n",
    "\n",
    "        # Check for convergence\n",
    "        if fp == 0 or abs(step - p) < tolerance:\n",
    "            print(f\"Converged in {i+1} iterations.\")\n",
    "            return True, step\n",
    "\n",
    "        p = step \n",
    "\n",
    "    # Never Converged\n",
    "    print(\"Never Converged p =\", p)\n",
    "    return False, 0\n",
    "\n",
    "def newton(f, df, x, max_iterations, epsilon, delta):\n",
    "    \"\"\"\n",
    "    The function approximates a root of the function f\n",
    "    starting from the initial guess x\n",
    "    :param f: formula for the function\n",
    "    :param df: formula for the derivative of the function\n",
    "    :param x: initial guess of a root\n",
    "    :param max_iterations: maximal numberof iterations to be performed\n",
    "    :param epsilon: parameter for evaluating the accuracy\n",
    "    :param delta: lower bound on the value of the derivative\n",
    "    :return: converge: indicates if the method converged 'close' to a root\n",
    "    :return: root: approximation of the root\n",
    "    \"\"\"\n",
    "    for n in range(1, max_iterations + 1):\n",
    "        fx = f(x)\n",
    "        dfx = df(x)\n",
    "\n",
    "        if np.abs(dfx) < delta:\n",
    "            return False, 0\n",
    "        \n",
    "        h = fx / dfx\n",
    "        x = x-h\n",
    "\n",
    "        if np.abs(h) < epsilon:\n",
    "            return True, x\n",
    "\n",
    "    return False, x"
   ]
  },
  {
   "cell_type": "markdown",
   "metadata": {},
   "source": []
  },
  {
   "cell_type": "code",
   "execution_count": 27,
   "metadata": {},
   "outputs": [
    {
     "name": "stdout",
     "output_type": "stream",
     "text": [
      "Newton's Method (False, 0)\n",
      "Newton's Method (True, 6.826302088784669e-07)\n",
      "Newton's Method (False, 0)\n",
      "Newton's Method (True, 5.343743293358215e-07)\n"
     ]
    }
   ],
   "source": [
    "def g(x):\n",
    "    \"\"\"\n",
    "    A function f that takes in a singular input x \n",
    "    :param x: The input variable for the equation\n",
    "    :return: The function result \n",
    "    \"\"\"\n",
    "    # return np.tan(x) - x\n",
    "    return (x**2)/(1 + x**2)\n",
    "\n",
    "def g_prime(x):\n",
    "    \"\"\"\n",
    "    The first derivative of function f that takes in a singular input x \n",
    "    :param x: The input variable for the equation\n",
    "    :return: The first derivative function result \n",
    "    \"\"\"\n",
    "    # return ((1/np.cos(x))**2) - 1\n",
    "    return (2*x)/(1 + x**2)**2\n",
    "\n",
    "print(\"Newton's Method\", newton(g, g_prime, 4.6, 100, 0.001, 0.000001)) # 1st function\n",
    "print(\"Newton's Method\", newton(g, g_prime, 0.5, 100, 0.000001, 0.000001)) # 2nd function\n",
    "print(\"Newton's Method\", newton(g, g_prime, 0.5, 100, 0.000001, 0.00001)) # 2nd function\n",
    "print(\"Newton's Method\", newton(g, g_prime, 3, 100, 0.000001, 0.000001)) # 2nd function\n",
    "# print(\"Newton's Method\", newtonsMethod(g, g_prime, 4.6, 100, 0.001, 0.000001)) # 1st function\n",
    "# print(\"Newton's Method\", newtonsMethod(g, g_prime, 0.5, 100, 0.000001, 0.000001)) # 2nd function\n",
    "# print(\"Newton's Method\", newtonsMethod(g, g_prime, 0.5, 100, 0.000001, 0.00001)) # 2nd function\n",
    "# print(\"Newton's Method\", newtonsMethod(g, g_prime, 3, 100, 0.000001)) # 2nd function\n"
   ]
  }
 ],
 "metadata": {
  "kernelspec": {
   "display_name": "Python 3",
   "language": "python",
   "name": "python3"
  },
  "language_info": {
   "codemirror_mode": {
    "name": "ipython",
    "version": 3
   },
   "file_extension": ".py",
   "mimetype": "text/x-python",
   "name": "python",
   "nbconvert_exporter": "python",
   "pygments_lexer": "ipython3",
   "version": "3.10.12"
  }
 },
 "nbformat": 4,
 "nbformat_minor": 2
}
