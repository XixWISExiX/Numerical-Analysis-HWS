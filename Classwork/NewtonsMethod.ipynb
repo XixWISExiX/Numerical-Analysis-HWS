{
 "cells": [
  {
   "cell_type": "code",
   "execution_count": null,
   "metadata": {},
   "outputs": [],
   "source": []
  },
  {
   "cell_type": "markdown",
   "metadata": {},
   "source": [
    "# Newton's Method"
   ]
  },
  {
   "cell_type": "code",
   "execution_count": 22,
   "metadata": {},
   "outputs": [],
   "source": [
    "import numpy as np\n",
    "def newton(f, df, x, max_iterations, epsilon, delta):\n",
    "    \"\"\"\n",
    "    The function approximates a root of the function f\n",
    "    starting from the initial guess x\n",
    "    :param f: formula for the function\n",
    "    :param df: formula for the derivative of the function\n",
    "    :param x: initial guess of a root\n",
    "    :param max_iterations: maximal numberof iterations to be performed\n",
    "    :param epsilon: parameter for evaluating the accuracy\n",
    "    :param delta: lower bound on the value of the derivative\n",
    "    :return: converge: indicates if the method converged 'close' to a root\n",
    "    :return: root: approximation of the root\n",
    "    \"\"\"\n",
    "    for n in range(1, max_iterations + 1):\n",
    "        fx = f(x)\n",
    "        dfx = df(x)\n",
    "\n",
    "        if np.abs(dfx) < delta:\n",
    "            return False, 0\n",
    "        \n",
    "        h = fx / dfx\n",
    "        x = h\n",
    "\n",
    "        if np.abs(h) < epsilon:\n",
    "            return True, x\n",
    "\n",
    "    return False, x"
   ]
  },
  {
   "cell_type": "markdown",
   "metadata": {},
   "source": []
  },
  {
   "cell_type": "code",
   "execution_count": 26,
   "metadata": {},
   "outputs": [
    {
     "name": "stdout",
     "output_type": "stream",
     "text": [
      "Newton's Method (False, 0)\n"
     ]
    }
   ],
   "source": [
    "def g(x):\n",
    "    \"\"\"\n",
    "    A function f that takes in a singular input x \n",
    "    :param x: The input variable for the equation\n",
    "    :return: The function result \n",
    "    \"\"\"\n",
    "    # return np.tan(x) - x\n",
    "    return (x**2)/(1 + x**2)\n",
    "\n",
    "def g_prime(x):\n",
    "    \"\"\"\n",
    "    The first derivative of function f that takes in a singular input x \n",
    "    :param x: The input variable for the equation\n",
    "    :return: The first derivative function result \n",
    "    \"\"\"\n",
    "    # return ((1/np.cos(x))**2) - 1\n",
    "    return (2*x)/(1 + x**2)**2\n",
    "\n",
    "# print(\"Newton's Method\", newton(g, g_prime, 4.6, 100, 0.001, 0.000001)) # 1st function\n",
    "# print(\"Newton's Method\", newton(g, g_prime, 0.5, 100, 0.000001, 0.000001)) # 2nd function\n",
    "# print(\"Newton's Method\", newton(g, g_prime, 0.5, 100, 0.000001, 0.00001)) # 2nd function\n",
    "print(\"Newton's Method\", newton(g, g_prime, 3, 100, 0.000001, 0.000001)) # 2nd function\n"
   ]
  }
 ],
 "metadata": {
  "kernelspec": {
   "display_name": "Python 3",
   "language": "python",
   "name": "python3"
  },
  "language_info": {
   "codemirror_mode": {
    "name": "ipython",
    "version": 3
   },
   "file_extension": ".py",
   "mimetype": "text/x-python",
   "name": "python",
   "nbconvert_exporter": "python",
   "pygments_lexer": "ipython3",
   "version": "3.10.12"
  }
 },
 "nbformat": 4,
 "nbformat_minor": 2
}
