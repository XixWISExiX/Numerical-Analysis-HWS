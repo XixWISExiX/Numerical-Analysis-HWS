{
 "cells": [
  {
   "cell_type": "markdown",
   "metadata": {},
   "source": [
    "# Variables and Assignments"
   ]
  },
  {
   "cell_type": "code",
   "execution_count": 1,
   "metadata": {},
   "outputs": [
    {
     "name": "stdout",
     "output_type": "stream",
     "text": [
      "The value of x is  1\n",
      "The type of x is  <class 'int'> \n",
      "\n",
      "The value of x is  1.1\n",
      "The type of x is  <class 'float'> \n",
      "\n",
      "The value of x is  Hello world\n",
      "The type of x is  <class 'str'> \n",
      "\n"
     ]
    }
   ],
   "source": [
    "x = 1\n",
    "print('The value of x is ', x)\n",
    "print('The type of x is ', type(x), '\\n')\n",
    "\n",
    "y = 1.1\n",
    "print('The value of y is ', y)\n",
    "print('The type of y is ', type(y), '\\n')\n",
    "\n",
    "s = 'Hello world'\n",
    "print('The value of s is ', s)\n",
    "print('The type of s is ', type(s), '\\n')"
   ]
  },
  {
   "cell_type": "markdown",
   "metadata": {},
   "source": [
    "# Operations on Variables"
   ]
  },
  {
   "cell_type": "code",
   "execution_count": 2,
   "metadata": {},
   "outputs": [
    {
     "name": "stdout",
     "output_type": "stream",
     "text": [
      "The value of z is  2.1\n",
      "The type of z is  <class 'float'> \n",
      "\n"
     ]
    },
    {
     "ename": "TypeError",
     "evalue": "unsupported operand type(s) for +: 'int' and 'str'",
     "output_type": "error",
     "traceback": [
      "\u001b[0;31m---------------------------------------------------------------------------\u001b[0m",
      "\u001b[0;31mTypeError\u001b[0m                                 Traceback (most recent call last)",
      "Cell \u001b[0;32mIn[2], line 5\u001b[0m\n\u001b[1;32m      2\u001b[0m \u001b[38;5;28mprint\u001b[39m(\u001b[38;5;124m'\u001b[39m\u001b[38;5;124mThe value of z is \u001b[39m\u001b[38;5;124m'\u001b[39m, z)\n\u001b[1;32m      3\u001b[0m \u001b[38;5;28mprint\u001b[39m(\u001b[38;5;124m'\u001b[39m\u001b[38;5;124mThe type of z is \u001b[39m\u001b[38;5;124m'\u001b[39m, \u001b[38;5;28mtype\u001b[39m(z), \u001b[38;5;124m'\u001b[39m\u001b[38;5;130;01m\\n\u001b[39;00m\u001b[38;5;124m'\u001b[39m)\n\u001b[0;32m----> 5\u001b[0m z \u001b[38;5;241m=\u001b[39m \u001b[43mx\u001b[49m\u001b[43m \u001b[49m\u001b[38;5;241;43m+\u001b[39;49m\u001b[43m \u001b[49m\u001b[43ms\u001b[49m\n\u001b[1;32m      6\u001b[0m \u001b[38;5;28mprint\u001b[39m(\u001b[38;5;124m'\u001b[39m\u001b[38;5;124mThe value of z is \u001b[39m\u001b[38;5;124m'\u001b[39m, z)\n\u001b[1;32m      7\u001b[0m \u001b[38;5;28mprint\u001b[39m(\u001b[38;5;124m'\u001b[39m\u001b[38;5;124mThe type of z is \u001b[39m\u001b[38;5;124m'\u001b[39m, \u001b[38;5;28mtype\u001b[39m(z), \u001b[38;5;124m'\u001b[39m\u001b[38;5;130;01m\\n\u001b[39;00m\u001b[38;5;124m'\u001b[39m)\n",
      "\u001b[0;31mTypeError\u001b[0m: unsupported operand type(s) for +: 'int' and 'str'"
     ]
    }
   ],
   "source": [
    "z = x + y\n",
    "print('The value of z is ', z)\n",
    "print('The type of z is ', type(z), '\\n')\n",
    "\n",
    "z = x + s\n",
    "print('The value of z is ', z)\n",
    "print('The type of z is ', type(z), '\\n')"
   ]
  },
  {
   "cell_type": "markdown",
   "metadata": {},
   "source": [
    "# Decision Making"
   ]
  },
  {
   "cell_type": "code",
   "execution_count": 3,
   "metadata": {},
   "outputs": [
    {
     "name": "stdout",
     "output_type": "stream",
     "text": [
      "x is less than 10\n",
      "x =  7\n",
      "x =  11\n"
     ]
    }
   ],
   "source": [
    "x = 7\n",
    "if x < 10:\n",
    "    print('x is less than 10')\n",
    "print('x = ', x)\n",
    "\n",
    "x = 11\n",
    "if x < 10:\n",
    "    print('x is less than 10')\n",
    "print('x = ', x)"
   ]
  },
  {
   "cell_type": "markdown",
   "metadata": {},
   "source": [
    "# Simple example from numberical analysis"
   ]
  },
  {
   "cell_type": "code",
   "execution_count": 4,
   "metadata": {},
   "outputs": [],
   "source": [
    "x = 0.1 + 0.1 + 0.1\n",
    "if x == 0.3:\n",
    "    print(\"This is always true!\")"
   ]
  },
  {
   "cell_type": "code",
   "execution_count": 5,
   "metadata": {},
   "outputs": [
    {
     "name": "stdout",
     "output_type": "stream",
     "text": [
      "Floating point arithmetic is a bit tricky!\n",
      "0.1 + 0.1 + 0.1 =  0.30000000000000004\n"
     ]
    }
   ],
   "source": [
    "x = 0.1 + 0.1 + 0.1\n",
    "if x == 0.3:\n",
    "    print(\"This is always true!\")\n",
    "else:\n",
    "    print(\"Floating point arithmetic is a bit tricky!\")\n",
    "    print(\"0.1 + 0.1 + 0.1 = \", x)\n",
    "\n",
    "# 0.1 is a repeating value in binary therefore it's bad for exact results"
   ]
  },
  {
   "cell_type": "markdown",
   "metadata": {},
   "source": [
    "# List"
   ]
  },
  {
   "cell_type": "code",
   "execution_count": 8,
   "metadata": {},
   "outputs": [
    {
     "name": "stdout",
     "output_type": "stream",
     "text": [
      "[1, 2, 7, 9]\n",
      "[1, 2, 'a', 7.2]\n",
      "[]\n",
      "4\n",
      "[1, 2, 7, 9, 'a']\n",
      "5\n"
     ]
    }
   ],
   "source": [
    "list_1 = [1, 2, 7, 9]\n",
    "print(list_1)\n",
    "\n",
    "list_2 = [1, 2, 'a', 7.2]\n",
    "print(list_2)\n",
    "\n",
    "list_3 = []\n",
    "print(list_3)\n",
    "\n",
    "print(len(list_1))\n",
    "\n",
    "list_1.append('a')\n",
    "print(list_1)\n",
    "print(len(list_1))"
   ]
  },
  {
   "cell_type": "code",
   "execution_count": 1,
   "metadata": {},
   "outputs": [
    {
     "name": "stdout",
     "output_type": "stream",
     "text": [
      "True\n",
      "True\n",
      "False\n",
      "2\n"
     ]
    }
   ],
   "source": [
    "list_1 = [1,2,7,'a']\n",
    "print('a' in list_1)\n",
    "print(1 in list_1)\n",
    "print('1' in list_1)\n",
    "\n",
    "print(list_1[1])"
   ]
  },
  {
   "cell_type": "code",
   "execution_count": 3,
   "metadata": {},
   "outputs": [
    {
     "name": "stdout",
     "output_type": "stream",
     "text": [
      "a\n",
      "a\n"
     ]
    }
   ],
   "source": [
    "print(list_1[len(list_1)-1])\n",
    "print(list_1[-1])"
   ]
  },
  {
   "cell_type": "code",
   "execution_count": 4,
   "metadata": {},
   "outputs": [
    {
     "name": "stdout",
     "output_type": "stream",
     "text": [
      "[1, 'b', 7, 'a']\n"
     ]
    }
   ],
   "source": [
    "list_1 = [1,2,7,'a']\n",
    "list_1[1] = 'b'\n",
    "print(list_1)"
   ]
  },
  {
   "cell_type": "markdown",
   "metadata": {},
   "source": [
    "# For Loop"
   ]
  },
  {
   "cell_type": "code",
   "execution_count": 5,
   "metadata": {},
   "outputs": [
    {
     "name": "stdout",
     "output_type": "stream",
     "text": [
      "1\n",
      "2\n",
      "7\n",
      "a\n"
     ]
    }
   ],
   "source": [
    "list_1 = [1,2,7,'a']\n",
    "for x in list_1:\n",
    "    print(x)"
   ]
  },
  {
   "cell_type": "code",
   "execution_count": 10,
   "metadata": {},
   "outputs": [
    {
     "name": "stdout",
     "output_type": "stream",
     "text": [
      "list_1[ 0 ] = 1\n",
      "list_1[ 1 ] = 2\n",
      "list_1[ 2 ] = 7\n",
      "list_1[ 3 ] = a\n"
     ]
    }
   ],
   "source": [
    "list_1 = [1,2,7,'a']\n",
    "for i in range(len(list_1)):\n",
    "    print(\"list_1[\",i,\"] =\", list_1[i])"
   ]
  },
  {
   "cell_type": "markdown",
   "metadata": {},
   "source": [
    "# Numerical Example to Remember\n",
    "Suppose that you have a system clock that ticks every tenth of a second.\n",
    "At a certain time this clock starts. How can we measure the time (in seconds) for which the clock is running?"
   ]
  },
  {
   "cell_type": "code",
   "execution_count": 11,
   "metadata": {},
   "outputs": [
    {
     "name": "stdout",
     "output_type": "stream",
     "text": [
      "86400.00000054126\n"
     ]
    }
   ],
   "source": [
    "elapsed_time = 0\n",
    "for i in range(864000):\n",
    "    elapsed_time += 0.1\n",
    "print(elapsed_time)"
   ]
  },
  {
   "cell_type": "markdown",
   "metadata": {},
   "source": [
    "How big is the error after one day (864000)?\n",
    "\n",
    "0.00000054126"
   ]
  },
  {
   "cell_type": "code",
   "execution_count": 12,
   "metadata": {},
   "outputs": [
    {
     "name": "stdout",
     "output_type": "stream",
     "text": [
      "86400.0\n"
     ]
    }
   ],
   "source": [
    "elapsed_time = 0\n",
    "number_of_ticks = 0\n",
    "for i in range(864000):\n",
    "    number_of_ticks += 1\n",
    "    elapsed_time = number_of_ticks * 0.1\n",
    "print(elapsed_time)"
   ]
  },
  {
   "cell_type": "markdown",
   "metadata": {},
   "source": [
    "Faster algo = less precision\n",
    "\n",
    "Slower algo = more precision"
   ]
  },
  {
   "cell_type": "markdown",
   "metadata": {},
   "source": [
    "# Functions"
   ]
  },
  {
   "cell_type": "code",
   "execution_count": 13,
   "metadata": {},
   "outputs": [
    {
     "name": "stdout",
     "output_type": "stream",
     "text": [
      "-1\n",
      "3\n"
     ]
    }
   ],
   "source": [
    "def g(x):\n",
    "    \"\"\"\n",
    "    Evaluates the polynomial x^4 + 3x^2 - 1\n",
    "    :param x: real number\n",
    "    :return: value of x^4 + 3x^2 - 1\n",
    "    \"\"\"\n",
    "    return x ** 4 + 3 * x ** 2 - 1\n",
    "print(g(0))\n",
    "print(g(1))"
   ]
  },
  {
   "cell_type": "code",
   "execution_count": 16,
   "metadata": {},
   "outputs": [
    {
     "name": "stdout",
     "output_type": "stream",
     "text": [
      "2\n",
      "2\n",
      "0\n"
     ]
    }
   ],
   "source": [
    "def absolute_value(x):\n",
    "    \"\"\"\n",
    "    Computes absolute value of x\n",
    "    :param x: real number\n",
    "    :return: absolute value of x\n",
    "    \"\"\"\n",
    "    if x > 0: return x\n",
    "    else: return x * -1\n",
    "\n",
    "print(absolute_value(2))\n",
    "print(absolute_value(-2))\n",
    "print(absolute_value(0))"
   ]
  },
  {
   "cell_type": "markdown",
   "metadata": {},
   "source": [
    "# Make Tests! (or lose points)"
   ]
  },
  {
   "cell_type": "code",
   "execution_count": 17,
   "metadata": {},
   "outputs": [
    {
     "name": "stdout",
     "output_type": "stream",
     "text": [
      "Absolute value of  0  is  0\n",
      "Absolute value of  -1  is  1\n",
      "Absolute value of  -4  is  4\n",
      "Absolute value of  3  is  3\n",
      "Absolute value of  8  is  8\n"
     ]
    }
   ],
   "source": [
    "if __name__ == '__main__':\n",
    "    test_values = [0, -1, -4, 3, 8]\n",
    "    for y in test_values:\n",
    "        print(\"Absolute value of \", y, ' is ', absolute_value(y))"
   ]
  },
  {
   "cell_type": "markdown",
   "metadata": {},
   "source": [
    "# Function Exercise"
   ]
  },
  {
   "cell_type": "code",
   "execution_count": 22,
   "metadata": {},
   "outputs": [
    {
     "name": "stdout",
     "output_type": "stream",
     "text": [
      "Sumarized values of  0  is  0\n",
      "Sumarized values of  3  is  6\n",
      "Sumarized values of  8  is  36\n",
      "Sumarized values of  12  is  78\n"
     ]
    }
   ],
   "source": [
    "def sum_first_n_natural_number(x):\n",
    "    \"\"\"\n",
    "    Computes the sum of 1 + 2 + .. + x\n",
    "    :param x: number off natrual number to sum\n",
    "    :return: sum of numbers\n",
    "    \"\"\"\n",
    "    total_val = 0\n",
    "    for i in range(1, x+1):\n",
    "        total_val += i\n",
    "    return total_val\n",
    "\n",
    "\n",
    "\n",
    "if __name__ == '__main__':\n",
    "    test_values = [0, 3, 8, 12]\n",
    "    for y in test_values:\n",
    "        print(\"Sumarized values of \", y, ' is ', sum_first_n_natural_number(y))"
   ]
  },
  {
   "cell_type": "markdown",
   "metadata": {},
   "source": [
    "# There is a more efficient solution O(1)"
   ]
  },
  {
   "cell_type": "code",
   "execution_count": 24,
   "metadata": {},
   "outputs": [
    {
     "name": "stdout",
     "output_type": "stream",
     "text": [
      "Sumarized values of  0  is  0\n",
      "Sumarized values of  3  is  6\n",
      "Sumarized values of  8  is  36\n",
      "Sumarized values of  12  is  78\n"
     ]
    }
   ],
   "source": [
    "def sum_first_n_natural_number_fast(x):\n",
    "    \"\"\"\n",
    "    Computes the sum of 1 + 2 + .. + x\n",
    "    :param x: number of natrual number to sum\n",
    "    :return: sum of numbers\n",
    "    \"\"\"\n",
    "    return (x+1)*x//2\n",
    "\n",
    "\n",
    "\n",
    "if __name__ == '__main__':\n",
    "    test_values = [0, 3, 8, 12]\n",
    "    for y in test_values:\n",
    "        print(\"Sumarized values of \", y, ' is ', sum_first_n_natural_number_fast(y))"
   ]
  },
  {
   "cell_type": "markdown",
   "metadata": {},
   "source": [
    "# ---------------------- Important Equations ----------------------------"
   ]
  },
  {
   "cell_type": "markdown",
   "metadata": {},
   "source": [
    "# Numerical Example to Remember\n",
    "Exercise: Sum the following numbers sum from 1 to n (0.1 * i)^(-i)\n",
    "\n",
    "other info on phone"
   ]
  },
  {
   "cell_type": "code",
   "execution_count": 4,
   "metadata": {},
   "outputs": [
    {
     "name": "stdout",
     "output_type": "stream",
     "text": [
      "Sumarized values of  10  is  186.21730360285397\n",
      "Sumarized values of  20  is  186.72494840790787\n",
      "Sumarized values of  28  is  186.72494861402404\n",
      "Sumarized values of  29  is  186.72494861402407\n",
      "Sumarized values of  30  is  186.72494861402407\n",
      "\n",
      "Sumarized values of  10  is  186.21730360285397\n",
      "Sumarized values of  20  is  186.72494840790785\n",
      "Sumarized values of  28  is  186.72494861402402\n",
      "Sumarized values of  29  is  186.72494861402407\n",
      "Sumarized values of  30  is  186.72494861402407\n"
     ]
    }
   ],
   "source": [
    "def sum_equ(n):\n",
    "    \"\"\"\n",
    "    Sum from 1 to n given the equation (0.1 * i)^(-i)\n",
    "    :param n: number of the summation stoping point inclusive\n",
    "    :return: sum of numbers from 1 to n\n",
    "    \"\"\"\n",
    "    total_sum = 0\n",
    "    for i in range(1, n+1):\n",
    "        total_sum += (0.1 * i) ** -i\n",
    "        # total_sum += pow(0.1*i, -1)\n",
    "    return total_sum\n",
    "\n",
    "def reversed_sum_equ(n):\n",
    "    \"\"\"\n",
    "    Sum from 1 to n given the equation (0.1 * i)^(-i)\n",
    "    :param n: number of the summation stoping point inclusive\n",
    "    :return: sum of numbers from 1 to n\n",
    "    \"\"\"\n",
    "    total_sum = 0\n",
    "    for i in reversed(range(1, n+1)):\n",
    "        total_sum += (0.1 * i) ** -i\n",
    "        # total_sum += pow(0.1*i, -1)\n",
    "    return total_sum\n",
    "\n",
    "\n",
    "\n",
    "if __name__ == '__main__':\n",
    "    test_values = [10, 20, 28, 29, 30]\n",
    "    for y in test_values:\n",
    "        print(\"Sumarized values of \", y, ' is ', sum_equ(y))\n",
    "    print(\"\")\n",
    "    for y in test_values:\n",
    "        print(\"Sumarized values of \", y, ' is ', reversed_sum_equ(y))"
   ]
  },
  {
   "cell_type": "markdown",
   "metadata": {},
   "source": [
    "There are some miss matches above\n",
    "\n",
    "# Evaluation of Polynomial\n",
    "p(x) = a_0 + a_1*x + a_2 * x^2 + ... + a_(n-1) * x^(n-1) + a_n * x^n"
   ]
  },
  {
   "cell_type": "code",
   "execution_count": 14,
   "metadata": {},
   "outputs": [
    {
     "name": "stdout",
     "output_type": "stream",
     "text": [
      "8\n"
     ]
    }
   ],
   "source": [
    "def evaluate_polynomial_naive(coefficients, x):\n",
    "    \"\"\"\n",
    "    Evalutes the value of a polynomial at x\n",
    "    :param coefficients: coefficients of the \n",
    "    \"\"\"\n",
    "    n = len(coefficients) - 1\n",
    "    result = coefficients[0]\n",
    "    for i in range(1, n+1):\n",
    "        result += coefficients[i]*pow(x,i)\n",
    "    return result\n",
    "\n",
    "# p_coefficients = [1, 2, 1]\n",
    "p_coefficients = [1, 5, 2]\n",
    "p_value = evaluate_polynomial_naive(p_coefficients, 1)\n",
    "print(p_value)"
   ]
  },
  {
   "cell_type": "markdown",
   "metadata": {},
   "source": [
    "This has i-1 multiplications\n",
    "In the i-th run of the loop there are i multiplication and  one addition\n",
    "The loop runs n times so we have\n",
    "\n",
    "i=1 to n i = n(n+1)/2 = n^2/2 + n/2"
   ]
  },
  {
   "cell_type": "markdown",
   "metadata": {},
   "source": [
    "# Nested Multiplication\n",
    "\n",
    "Normal: \n",
    "\n",
    "p(x) = a_0 + a_1*x + a_2 * x^2 + ... + a_(n-1) * x^(n-1) + a_n * x^n\n",
    "\n",
    "Nested: \n",
    "\n",
    "p(x) = a_0 + x(a_1 + x(a_2 + ... + x (a_(n-1) + x(a_n))..))"
   ]
  },
  {
   "cell_type": "code",
   "execution_count": 17,
   "metadata": {},
   "outputs": [
    {
     "name": "stdout",
     "output_type": "stream",
     "text": [
      "8\n"
     ]
    }
   ],
   "source": [
    "def evaluate_polynomial(coefficients, x):\n",
    "    \"\"\"\n",
    "    Evalutes the value of a polynomial at x\n",
    "    :param coefficients: coefficients of the polynomial\n",
    "    :param x: point at which the polynomial is evaluated\n",
    "    :return: value of the polynomial at x\n",
    "    \"\"\"\n",
    "    n = len(coefficients) - 1\n",
    "    result = coefficients[n]\n",
    "    for i in reversed(range(n)):\n",
    "        result = coefficients[i] + x*result\n",
    "    return result\n",
    "\n",
    "\n",
    "# p_coefficients = [1, 2, 1]\n",
    "p_coefficients = [1, 5, 2]\n",
    "p_value = evaluate_polynomial(p_coefficients, 1)\n",
    "print(p_value)\n"
   ]
  },
  {
   "cell_type": "markdown",
   "metadata": {},
   "source": [
    "# Derivatives\n",
    "\n",
    "f'(x) = lim h->0 {f(x+h) - f(x)} / h\n",
    "\n",
    "The SimpleDifference.py file for this exercise is on Canvas. (See charts by running SimpleDifference.py)"
   ]
  }
 ],
 "metadata": {
  "kernelspec": {
   "display_name": "Python 3",
   "language": "python",
   "name": "python3"
  },
  "language_info": {
   "codemirror_mode": {
    "name": "ipython",
    "version": 3
   },
   "file_extension": ".py",
   "mimetype": "text/x-python",
   "name": "python",
   "nbconvert_exporter": "python",
   "pygments_lexer": "ipython3",
   "version": "3.10.12"
  }
 },
 "nbformat": 4,
 "nbformat_minor": 2
}
