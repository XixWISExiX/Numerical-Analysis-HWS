{
 "cells": [
  {
   "cell_type": "markdown",
   "metadata": {},
   "source": [
    "# Bisection Questions"
   ]
  },
  {
   "cell_type": "code",
   "execution_count": 3,
   "metadata": {},
   "outputs": [
    {
     "name": "stdout",
     "output_type": "stream",
     "text": [
      "21\n",
      "Bisection algo (True, 4.493409442901611)\n"
     ]
    }
   ],
   "source": [
    "import math\n",
    "import numpy as np\n",
    "\n",
    "# Better bisection algorithm\n",
    "def better_bisection(f, a, b, max_iter, tolerance):\n",
    "    \"\"\"\n",
    "    Approximates a root p in [a,b] of the function f with error smaller than \n",
    "    a given tolerance.\n",
    "    Note that f(a)f(b) has to be negative for this method to work\n",
    "    :param f: function whose root is approximated\n",
    "    :param a: left bound on the position of the root\n",
    "    :param b: right bond on the position of the root\n",
    "    :param max_iter: maximum number of iteration to reach the tolerance\n",
    "    :param tolerance: maximal allowed error\n",
    "\n",
    "    :return: converged - flag indicating if the method reached the precision\n",
    "             root - approximation of the root\n",
    "    \"\"\"\n",
    "\n",
    "    # Calculate how long the function will take (find n)\n",
    "    # 1/(2**n) * abs(b-a) < tolerance\n",
    "    # abs(b-a) < tolerance * 2**n\n",
    "    # abs(b-a)/tolerance < 2**n\n",
    "    # log_2(abs(b-a)/tolerance) = n\n",
    "    num_of_iter = abs(math.ceil(math.log2(abs(b-a)/tolerance)))\n",
    "    print(num_of_iter)\n",
    "\n",
    "    # If precision cannot be achieved by the algo, don't run it.\n",
    "    if max_iter < num_of_iter:\n",
    "        return False, 0\n",
    "\n",
    "\n",
    "    fa = f(a)\n",
    "    fb = f(b)\n",
    "\n",
    "    # If the signs aren't the same, the condition doesn't match to run this algo (saves from underflow)\n",
    "    if np.sign(fa) == np.sign(fb):\n",
    "        return False, 0\n",
    "\n",
    "    error = b - a\n",
    "    for _ in np.arange(num_of_iter):\n",
    "        error /= 2\n",
    "        p = a + error\n",
    "        fp = f(p)\n",
    "\n",
    "        if np.sign(fa) == np.sign(fp):\n",
    "            a = p\n",
    "            fa = fp\n",
    "\n",
    "    return True, p\n",
    "\n",
    "\n",
    "def f(x):\n",
    "    '''\n",
    "    A function f that takes in a singular input x \n",
    "    :param x: The input variable for the equation\n",
    "    :return: The function result \n",
    "    '''\n",
    "    return np.tan(x) - x\n",
    "\n",
    "a = 3.2\n",
    "b = 4.6\n",
    "max_iter = 40\n",
    "tolerance = 10 ** (-6)\n",
    "# print(tolerance == 0.000001)\n",
    "\n",
    "print(\"Bisection algo\", better_bisection(f, a, b, max_iter, tolerance))"
   ]
  },
  {
   "cell_type": "code",
   "execution_count": 4,
   "metadata": {},
   "outputs": [
    {
     "name": "stdout",
     "output_type": "stream",
     "text": [
      "22\n",
      "Bisection algo (True, -2.384185791015625e-07)\n"
     ]
    }
   ],
   "source": [
    "def f(x):\n",
    "    '''\n",
    "    A function f that takes in a singular input x \n",
    "    :param x: The input variable for the equation\n",
    "    :return: The function result \n",
    "    '''\n",
    "    return 1/x\n",
    "\n",
    "a = -1\n",
    "b = 2\n",
    "max_iter = 40\n",
    "tolerance = 10 ** (-6)\n",
    "# print(tolerance == 0.000001)\n",
    "\n",
    "print(\"Bisection algo\", better_bisection(f, a, b, max_iter, tolerance))"
   ]
  },
  {
   "cell_type": "markdown",
   "metadata": {},
   "source": [
    "1/x is not continuous, and therefore should not use the bisection algorithm."
   ]
  },
  {
   "cell_type": "code",
   "execution_count": null,
   "metadata": {},
   "outputs": [],
   "source": [
    "# TODO move p to the position to the secant line that goes through f(a) and f(b)\n",
    "# y = ux + v\n",
    "# u = rise/run = [f(b)-(fa)]/[b-a]\n",
    "# so\n",
    "# y = u(x-a) move to the right by a\n",
    "# y = u(x-a) + f(a) up by f(a)\n",
    "# y = {[f(b)-(fa)]/[b-a]}(x-a) + f(a)\n",
    "# ^ the equation of the secant line\n",
    "# 0 = {[f(b)-(fa)]/[b-a]}(x-a) + f(a)\n",
    "# -f(a) = {[f(b)-(fa)]/[b-a]}(x-a)\n",
    "# -f(a)/{[f(b)-(fa)]/[b-a]} = x-a\n",
    "# (-f(a)/{[f(b)-(fa)]/[b-a]}) + a = x\n",
    "# p1 = x = [a*f(b) - b*f(a)] / [f(b) - f(a)]"
   ]
  }
 ],
 "metadata": {
  "kernelspec": {
   "display_name": "Python 3",
   "language": "python",
   "name": "python3"
  },
  "language_info": {
   "codemirror_mode": {
    "name": "ipython",
    "version": 3
   },
   "file_extension": ".py",
   "mimetype": "text/x-python",
   "name": "python",
   "nbconvert_exporter": "python",
   "pygments_lexer": "ipython3",
   "version": "3.10.12"
  }
 },
 "nbformat": 4,
 "nbformat_minor": 2
}
